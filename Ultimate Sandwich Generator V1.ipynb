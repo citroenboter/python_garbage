{
 "cells": [
  {
   "cell_type": "code",
   "execution_count": 2,
   "metadata": {},
   "outputs": [],
   "source": [
    "import random\n",
    "import textwrap\n",
    "\n",
    "exclamation = [\"Oh man...\", \"Great...\", \"Alrighty then!\", \"Geepers...\", \"Uh, okay.\", \"Buuuuuuuuuurp!\", \"Look Morty.\"]\n",
    "bravery = [\"I guess I'll try a\", \"I bet I'd like a\", \"I'm gonna try a\", \"Here goes nothing: a\", \"My ultimate hoagie? A\"]\n",
    "stuffOnBread = ['peanut butter', 'french fry', 'frikandel', 'cement', 'recyclable vegan shopping bag', 'microplastics', 'asbestos', 'printer ink', 'toothpaste', 'orange juice', 'sandwich', 'dog food', 'whale blubber', 'banana', 'chocolate', 'ham', 'mayo', 'sprinkles', 'lemon wedge', 'salami', 'cheese', 'carrot', 'coleslaw', 'chicken', 'jam', 'jelly', 'jello', 'whipped cream', 'pineapple chunks', 'peanut', 'UNDEFINED', 'gritty paste']\n",
    "typeOfBread = ['whole grain', 'brown bread', 'papier-mâché', 'multi grain', 'tiger white', 'cornbread', 'leftover pizza', '[EDIBLE BREAD]', 'crackers', 'shingles', 'vanilla wafers', 'lasagna']\n",
    "stateOfBread = ['fresh', 'mouldy', 'slightly stale', 'crispy', '[ADJECTIVE]', 'passionately burnt', 'toasted', 'dry', 'sad', 'tear-stained', 'yellowed', 'sundried', 'Pickle Rick(tm) branded']\n",
    "tasteOfBread = ['tasty', 'kind of weird', 'nice', 'amazing', 'yummy', 'just scrumptious', 'absolutely abhorrent', 'a hard pass next time', 'a once in a lifetime experience', 'completely inedible', 'mostly edible', 'kind of disappointing', 'uhh... very special, thanks', 'not my kind of sandwich', 'gonna make me cry']\n"
   ]
  },
  {
   "cell_type": "code",
   "execution_count": 3,
   "metadata": {},
   "outputs": [],
   "source": [
    "def generateSandwich():\n",
    "    randomStuff1 = random.choice(stuffOnBread)\n",
    "    randomStuff2 = random.choice(stuffOnBread)\n",
    "    randomStuff3 = random.choice(stuffOnBread)\n",
    "    randomType = random.choice(typeOfBread)\n",
    "    randomState = random.choice(stateOfBread)\n",
    "    randomTaste = random.choice(tasteOfBread)\n",
    "    randomExclamation = random.choice(exclamation)\n",
    "    randomBravery = random.choice(bravery)\n",
    "    breadSuggestion = textwrap.fill(randomExclamation + \" \" + randomBravery + \" \" + randomStuff1 + \", \" + randomStuff2 + \" and \" + randomStuff3 + \" sandwich on \" + randomState + \" \" + randomType + \". I think it's \" + randomTaste + \"!\")\n",
    "    print(breadSuggestion)"
   ]
  },
  {
   "cell_type": "code",
   "execution_count": 11,
   "metadata": {},
   "outputs": [
    {
     "name": "stdout",
     "output_type": "stream",
     "text": [
      "Uh, okay. Here goes nothing: a peanut, chicken and asbestos sandwich\n",
      "on sundried cornbread. I think it's not my kind of sandwich!\n"
     ]
    }
   ],
   "source": [
    "generateSandwich()"
   ]
  },
  {
   "cell_type": "code",
   "execution_count": null,
   "metadata": {},
   "outputs": [],
   "source": []
  },
  {
   "cell_type": "code",
   "execution_count": null,
   "metadata": {},
   "outputs": [],
   "source": []
  }
 ],
 "metadata": {
  "kernelspec": {
   "display_name": "Python 3",
   "language": "python",
   "name": "python3"
  },
  "language_info": {
   "codemirror_mode": {
    "name": "ipython",
    "version": 3
   },
   "file_extension": ".py",
   "mimetype": "text/x-python",
   "name": "python",
   "nbconvert_exporter": "python",
   "pygments_lexer": "ipython3",
   "version": "3.7.6"
  }
 },
 "nbformat": 4,
 "nbformat_minor": 4
}
